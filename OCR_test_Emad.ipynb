{
 "cells": [
  {
   "cell_type": "code",
   "execution_count": 8,
   "metadata": {},
   "outputs": [],
   "source": [
    "import pytesseract\n",
    "import cv2\n",
    "import numpy as np\n",
    "import platform\n",
    "if platform.system() == \"Windows\":\n",
    "    pytesseract.pytesseract.tesseract_cmd = r'C:\\Users\\B92383\\AppData\\Local\\Programs\\Tesseract-OCR\\tesseract.exe'\n",
    "custom_config = r'--oem 2 --psm 12 -l fra'"
   ]
  },
  {
   "attachments": {},
   "cell_type": "markdown",
   "metadata": {},
   "source": [
    "# Etape 1\n",
    "### Standariser l'image"
   ]
  },
  {
   "cell_type": "code",
   "execution_count": 9,
   "metadata": {},
   "outputs": [],
   "source": [
    "\n",
    "def biggestRectangle(contours):\n",
    "    max_area = 0\n",
    "    indexReturn = -1\n",
    "    for index in range(len(contours)):\n",
    "        i = contours[index]\n",
    "        area = cv2.contourArea(i)\n",
    "        if area > 100:\n",
    "            peri = cv2.arcLength(i, True)\n",
    "            approx = cv2.approxPolyDP(i, 0.1 * peri, True)\n",
    "            if area > max_area:\n",
    "                max_area = area\n",
    "                indexReturn = index\n",
    "    return indexReturn\n",
    "\n",
    "def process_image(img):\n",
    "    img = cv2.cvtColor(img, cv2.COLOR_BGR2RGB)\n",
    "    img = cv2.resize(img, None, fx=0.5, fy=0.5, interpolation=cv2.INTER_CUBIC)\n",
    "    gray = cv2.cvtColor(img, cv2.COLOR_BGR2GRAY)\n",
    "    invGamma = 1.0 / 0.3\n",
    "    table = np.array([((i / 255.0) ** invGamma) * 255 for i in np.arange(0, 256)]).astype(\"uint8\")\n",
    "    gray = cv2.LUT(gray, table)\n",
    "    ret, thresh1 = cv2.threshold(gray, 60, 255, cv2.THRESH_BINARY)\n",
    "\n",
    "    contours, hierarchy = cv2.findContours(thresh1, cv2.RETR_TREE, cv2.CHAIN_APPROX_SIMPLE)[-2:]\n",
    "\n",
    "    indexReturn = biggestRectangle(contours)\n",
    "    hull = cv2.convexHull(contours[indexReturn])\n",
    "\n",
    "    mask = np.zeros_like(img)\n",
    "    cv2.drawContours(mask, contours, indexReturn, 255, -1)\n",
    "    out = np.zeros_like(img)\n",
    "    out[mask == 255] = img[mask == 255]\n",
    "\n",
    "    (y, x, _) = np.where(mask == 255)\n",
    "    (topy, topx) = (np.min(y), np.min(x))\n",
    "    (bottomy, bottomx) = (np.max(y), np.max(x))\n",
    "    out = img[topy:bottomy + 1, topx:bottomx + 1, :]\n",
    "\n",
    "    return out\n",
    "\n",
    "\n",
    "\n",
    "# Load your image\n",
    "image_path = \"./carte-grise-specimen.jpg\"\n",
    "# image = Image.open(image)\n",
    "frame = cv2.imread(image_path)\n",
    "# print(frame)\n",
    "frame = process_image(frame)\n",
    "\n"
   ]
  },
  {
   "attachments": {},
   "cell_type": "markdown",
   "metadata": {},
   "source": [
    "# Etape 2 :\n",
    "### Trouver les points de chaque element dans la photo"
   ]
  },
  {
   "cell_type": "code",
   "execution_count": 10,
   "metadata": {},
   "outputs": [
    {
     "name": "stdout",
     "output_type": "stream",
     "text": [
      "Left click\n",
      "[(564, 27)]\n"
     ]
    }
   ],
   "source": [
    "import numpy as np\n",
    "import cv2\n",
    "\n",
    "def mouse_drawing(event, x, y, flags, params):\n",
    "    if event == cv2.EVENT_LBUTTONDOWN:\n",
    "        print(\"Left click\")\n",
    "        circles.append((x, y))\n",
    "\n",
    "circles = []\n",
    "\n",
    "# Load your image\n",
    "# image_path = \"img\\carte-grise-specimen.jpg\"\n",
    "# frame = cv2.imread(image_path)\n",
    "\n",
    "cv2.namedWindow(\"Frame\")\n",
    "if len(circles) < 4:\n",
    "    cv2.setMouseCallback(\"Frame\", mouse_drawing)\n",
    "\n",
    "while True:\n",
    "    for center_position in circles:\n",
    "        cv2.circle(frame, center_position, 2, (0, 0, 255), -1)\n",
    "    \n",
    "    points = np.array(circles)\n",
    "    if len(circles) >= 4:\n",
    "        cv2.polylines(frame, np.int32([points]), 1, (255, 255, 255))\n",
    "\n",
    "    cv2.imshow(\"Frame\", frame)\n",
    "\n",
    "    key = cv2.waitKey(1)\n",
    "    if key == 27:\n",
    "        break\n",
    "    elif key == ord(\"d\"):\n",
    "        circles = []\n",
    "\n",
    "cv2.destroyAllWindows()\n",
    "print(circles)\n"
   ]
  },
  {
   "cell_type": "code",
   "execution_count": 11,
   "metadata": {},
   "outputs": [
    {
     "name": "stdout",
     "output_type": "stream",
     "text": [
      "(142, 0)\n"
     ]
    }
   ],
   "source": [
    "regions_dict = {\n",
    "    'points_N_immatriculation':[(39, 44), (39, 59), (116, 62), (118, 43)],\n",
    "    'points_titre_document': [(142, 0), (144, 17), (391, 19), (391, 1)],\n",
    "    'points_d_2': [(47, 303), (48, 319), (387, 318), (386, 303)],\n",
    "    'points_E': [(343, 344), (343, 361), (496, 365), (493, 343)],\n",
    "    'points_Date_de_1er_immarticulation': [(173, 45), (174, 61), (268, 61), (266, 44)]\n",
    "}\n",
    "\n",
    "# Accessing values for a specific key\n",
    "print(regions_dict['points_titre_document'][0])"
   ]
  },
  {
   "attachments": {},
   "cell_type": "markdown",
   "metadata": {},
   "source": [
    "# Etape 3\n",
    "### couper les elements et les save "
   ]
  },
  {
   "cell_type": "code",
   "execution_count": 12,
   "metadata": {},
   "outputs": [],
   "source": [
    "import cv2\n",
    "\n",
    "# # Load your image\n",
    "# image_path = \"img\\carte-grise-specimen.jpg\"\n",
    "# # image = Image.open(image)\n",
    "# frame = cv2.imread(image_path)\n",
    "# # print(frame)\n",
    "# image = process_image(frame)\n",
    "\n",
    "\n",
    "# Define a function to trim and save an image\n",
    "def trim_and_save(region_key, region_points, image):\n",
    "    x, y, w, h = cv2.boundingRect(np.array(region_points))\n",
    "    cropped_image = image[y:y+h, x:x+w]\n",
    "    cv2.imwrite(f\"{region_key}_cropped.jpg\", cropped_image)\n",
    "\n",
    "# Iterate through regions and trim/save images\n",
    "for region_key, region_points in regions_dict.items():\n",
    "    trim_and_save(region_key, region_points, frame)"
   ]
  },
  {
   "attachments": {},
   "cell_type": "markdown",
   "metadata": {},
   "source": [
    "# Etape 4\n",
    "### Passer le PCR pour chaque image"
   ]
  },
  {
   "cell_type": "code",
   "execution_count": 13,
   "metadata": {},
   "outputs": [],
   "source": [
    "def image2text(cropped_image_path):\n",
    "    text = ''\n",
    "    # cropped_image_path = 'points_E_cropped.jpg'\n",
    "    cropped_image = cv2.imread(cropped_image_path)\n",
    "    cropped_image = cv2.resize(cropped_image, None,fx=2,fy=2 ,interpolation=cv2.INTER_CUBIC)\n",
    "\n",
    "    text = pytesseract.image_to_string(cropped_image, config=custom_config)\n",
    "    # for word in text.split():\n",
    "    #     if word.__len__() >= 2:\n",
    "    #         word_found = word\n",
    "            \n",
    "            \n",
    "    \n",
    "    if len(text)!=0:\n",
    "        return text\n",
    "    else:\n",
    "        print(\"no text detected\")"
   ]
  },
  {
   "cell_type": "code",
   "execution_count": 14,
   "metadata": {},
   "outputs": [],
   "source": [
    "while True:\n",
    "    for region_key, value in regions_dict.items():\n",
    "        cv2.rectangle(frame, value[0], value[2], (0,0,255),2,2)\n",
    "         # Load the saved cropped image\n",
    "        cropped_image_path = f\"{region_key}_cropped.jpg\"\n",
    "        # cropped_image = cv2.imread(cropped_image_path)\n",
    "        word_found = image2text(cropped_image_path)\n",
    "        # print(f\"{region_key} : {word_found}\")\n",
    "        cv2.putText(frame, str(word_found), value[0],1,1,(0,0,255),1)\n",
    "\n",
    "    \n",
    " \n",
    "    cv2.imshow(\"Frame\", frame)\n",
    "\n",
    "    key = cv2.waitKey(1)\n",
    "    if key == 27:\n",
    "        break\n",
    "  \n",
    "cv2.destroyAllWindows()"
   ]
  }
 ],
 "metadata": {
  "kernelspec": {
   "display_name": "ocrenv",
   "language": "python",
   "name": "python3"
  },
  "language_info": {
   "codemirror_mode": {
    "name": "ipython",
    "version": 3
   },
   "file_extension": ".py",
   "mimetype": "text/x-python",
   "name": "python",
   "nbconvert_exporter": "python",
   "pygments_lexer": "ipython3",
   "version": "3.10.13"
  },
  "orig_nbformat": 4
 },
 "nbformat": 4,
 "nbformat_minor": 2
}
